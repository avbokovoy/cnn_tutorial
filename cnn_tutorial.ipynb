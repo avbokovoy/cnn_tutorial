{
 "cells": [
  {
   "cell_type": "code",
   "execution_count": 1,
   "metadata": {},
   "outputs": [],
   "source": [
    "# Importing all the necessary modules\n",
    "import os                                   # OS specific module\n",
    "    \n",
    "import torch                                # PyTorch main module \n",
    "import torch.nn as nn                       # Neural network PyTroch module\n",
    "import torch.utils.data as Data             # Dataset PyTorch module\n",
    "\n",
    "import torchvision                          # Computer vision PyTorch module\n",
    "import torchvision.transforms as transforms # Image transform PyTorch module"
   ]
  },
  {
   "cell_type": "code",
   "execution_count": 2,
   "metadata": {},
   "outputs": [
    {
     "data": {
      "text/plain": [
       "<torch._C.Generator at 0x7f5d040e9230>"
      ]
     },
     "execution_count": 2,
     "metadata": {},
     "output_type": "execute_result"
    }
   ],
   "source": [
    "torch.manual_seed(1)                        # Adjusting random generator"
   ]
  },
  {
   "cell_type": "code",
   "execution_count": 6,
   "metadata": {},
   "outputs": [],
   "source": [
    "# Creating the model of our CNN:\n",
    "class CNN( nn.Module ):\n",
    "    def __init__( self ):\n",
    "        super( CNN, self ).__init__()\n",
    "        self.conv1 = nn.Sequential(                   # First layer. Input: 3 channel image (RGB),\n 
    "                                                      # with size 32х32 or (3, 32, 32) \n",
    "            nn.Conv2d(                                # Convolution function.  \n",
    "                in_channels  = 3                      # Input channels: 3, equals the input image channels\n",
    "              , out_channels = 16                     # Output channels: 16\n",
    "              , kernel_size  = 5                      # Kernel size: 5\n",
    "              , stride       = 1                      # Vertical and Horizontal stride: 1\n",
    "              , padding      = 2                      # Padding: 2\n",
    "            )\n",
    "            , nn.ReLU()                               # Activation function: ReLU\n",
    "            , nn.MaxPool2d( kernel_size = 2\n",
    "                          , dilation    = 1)          # Pooling function with kernel size: 2\n",
    "        )                                             # Output image: ( 16, 16, 16 )  \n",
    "        \n",
    "        self.conv2 = nn.Sequential(                   # Second layer. Imput image: ( 16, 16, 16 )\n",
    "              nn.Conv2d( 16, 32, 5, 1, 2 )            # Convolution function.\n",
    "            , nn.ReLU()                               # Activation function.\n",
    "            , nn.MaxPool2d( kernel_size = 2, dilation    = 1 )         # Pooling function. \n",
    "            , nn.Dropout2d( p = 0.2 )               \n",
    "         \n",
    "        )                                             # Output image: ( 32, 8, 8 )\n",
    "        \n",
    "        self.out = nn.Linear( 32 * 8 * 8, 10 )        # Fully connected layer. First argument: Input array size\n",
    "                                                      # Second: amount of outputs (equals amount of classes) \n",
    "    def forward( self, x ):                           # Reimplementing method forward of superclass nn.Module\n",
    "        x = self.conv1(x)                             # Calling first layer.\n",
    "        x = self.conv2(x)                             # Calling second layer.\n",
    "        x = x.view( x.size(0), -1 )                   # Squeezing into 1-d array\n",
    "        x = self.out(x)                               # Form perceptron\n",
    "        return x                                      # Return the result"
   ]
  },
  {
   "cell_type": "code",
   "execution_count": 7,
   "metadata": {},
   "outputs": [
    {
     "name": "stdout",
     "output_type": "stream",
     "text": [
      "CNN(\n",
      "  (conv1): Sequential(\n",
      "    (0): Conv2d(3, 16, kernel_size=(5, 5), stride=(1, 1), padding=(2, 2))\n",
      "    (1): ReLU()\n",
      "    (2): MaxPool2d(kernel_size=2, stride=2, padding=0, dilation=1, ceil_mode=False)\n",
      "  )\n",
      "  (conv2): Sequential(\n",
      "    (0): Conv2d(16, 32, kernel_size=(5, 5), stride=(1, 1), padding=(2, 2))\n",
      "    (1): ReLU()\n",
      "    (2): MaxPool2d(kernel_size=2, stride=2, padding=0, dilation=1, ceil_mode=False)\n",
      "    (3): Dropout2d(p=0.2)\n",
      "  )\n",
      "  (out): Linear(in_features=2048, out_features=10, bias=True)\n",
      ")\n"
     ]
    }
   ],
   "source": [
    "cnn = CNN()                                           # Create CNN-type object\n",
    "print(cnn)                                            # Output CNN architecture as text"
   ]
  },
  {
   "cell_type": "code",
   "execution_count": 8,
   "metadata": {},
   "outputs": [
    {
     "name": "stdout",
     "output_type": "stream",
     "text": [
      "Downloading https://www.cs.toronto.edu/~kriz/cifar-10-python.tar.gz to ./cifar10/cifar-10-python.tar.gz\n"
     ]
    }
   ],
   "source": [
    "# Create IPL to Tensor transform function\n",
    "transform = transforms.Compose( [ \n",
    "        transforms.ToTensor()\n",
    "      , transforms.Normalize( ( 0.5,0.5, 0.5 ), ( 0.5, 0.5, 0.5 ) ) \n",
    "    ]\n",
    ")\n",
    "\n",
    "train_data = torchvision.datasets.CIFAR10(            # Download dataset Cifar10 https://www.cs.toronto.edu/~kriz/cifar.html\n",
    "      root      = './cifar10/'                        # Dataset path\n",
    "    , train     = True                                # If True, data will be used to train\n",
    "                                                      # False - to test\n",
    "    , transform = transform                           # IPL to Tensor transform function.\n",
    "    , download  = True                                # If True, data will be downloaded from repository, \n",
    "                                                      # False - use local data\n",
    ")"
   ]
  },
  {
   "cell_type": "code",
   "execution_count": 10,
   "metadata": {},
   "outputs": [],
   "source": [
    "train_loader = Data.DataLoader(                       # Create Data.DataLoader type object\n",
    "      dataset    = train_data                         # Input dataset'a - train_data\n",
    "    , batch_size = 50                                 # How many image will be used to train at one go\n",
    "    , shuffle    = True                               # Do we need to shuffle dataset?\n",
    ")"
   ]
  },
  {
   "cell_type": "code",
   "execution_count": 11,
   "metadata": {},
   "outputs": [],
   "source": [
    "# Create optimizer object (in our particular case, Adam optimizare).\n",
    "# Input CNN parameters and learning rate\n",
    "optimizer = torch.optim.Adam( cnn.parameters(), lr = 0.001 )  \n",
    "\n",
    "# Define loss function (Cross Entropy)\n",
    "loss_func = nn.CrossEntropyLoss()"
   ]
  },
  {
   "cell_type": "code",
   "execution_count": 12,
   "metadata": {},
   "outputs": [
    {
     "name": "stdout",
     "output_type": "stream",
     "text": [
      "[0,    99] loss: 0.018301\n",
      "[0,   199] loss: 0.015913\n",
      "[0,   299] loss: 0.013853\n",
      "[0,   399] loss: 0.013272\n",
      "[0,   499] loss: 0.014993\n",
      "[0,   599] loss: 0.015974\n",
      "[0,   699] loss: 0.013161\n",
      "[0,   799] loss: 0.014584\n",
      "[0,   899] loss: 0.011394\n",
      "[0,   999] loss: 0.010289\n"
     ]
    }
   ],
   "source": [
    "# Обучаем нейронную сеть\n",
    "\n",
    "MAX_EPOCH =                                                           # Number of iterations for training. Insert your number here\n",
    "\n",
    "for epoch in range( MAX_EPOCH ):\n",
    "    for step, ( b_images, b_labels ) in enumerate( train_loader ):    # For all images b_images and labels b_labels \n",
    "        output = cnn( b_images )                                      # get the results of CNN to output\n",
    "        loss   = loss_func( output, b_labels )                        # Calculate the loss between output and\n",
    "                                                                      # known labels b_labels\n",
    "        optimizer.zero_grad()                                         # Zero gradient\n",
    "        loss.backward()                                               # Using backpropagation\n",
    "        optimizer.step()                                              # Applying gradient\n",
    "        \n",
    "        running_loss = loss.item()                                    # Get the loss on current step\n",
    "        if step % 100 == 99:\n",
    "            print( '[%d, %5d] loss: %f' % ( epoch, step, running_loss / 100) )  # Output the loss\n",
    "            running_loss = 0.0                                                  # Zero the loss"
   ]
  },
  {
   "cell_type": "code",
   "execution_count": 13,
   "metadata": {},
   "outputs": [
    {
     "name": "stdout",
     "output_type": "stream",
     "text": [
      "Files already downloaded and verified\n"
     ]
    }
   ],
   "source": [
    "# Download testing dataset\n",
    "test_data = torchvision.datasets.CIFAR10(\n",
    "      root = './cifar10/'\n",
    "    , train     = False\n",
    "    , download  = True\n",
    "    , transform = transform\n",
    ")\n",
    "\n",
    "BATCH_SIZE = 4\n",
    "\n",
    "test_loader = torch.utils.data.DataLoader(\n",
    "      test_data\n",
    "    , batch_size = BATCH_SIZE\n",
    "    , shuffle    = True\n",
    "    , num_workers = 2                      # How many processes will be used for testing\n",
    ")"
   ]
  },
  {
   "cell_type": "code",
   "execution_count": 14,
   "metadata": {},
   "outputs": [],
   "source": [
    "# Write the util for image output.\n",
    "\n",
    "import numpy as np\n",
    "import matplotlib.pyplot as plt\n",
    "\n",
    "def imshow( img ):\n",
    "    img   = img / 2 + 0.5\n",
    "    npimg = img.numpy()\n",
    "    plt.imshow( np.transpose( npimg, (1, 2, 0) ) )"
   ]
  },
  {
   "cell_type": "code",
   "execution_count": 15,
   "metadata": {},
   "outputs": [
    {
     "name": "stdout",
     "output_type": "stream",
     "text": [
      "GroundTruth:  cat bird frog cat\n"
     ]
    },
    {
     "data": {
      "image/png": "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\n",
      "text/plain": [
       "<matplotlib.figure.Figure at 0x7f5cb4a8d438>"
      ]
     },
     "metadata": {},
     "output_type": "display_data"
    }
   ],
   "source": [
    "# Define class name vector\n",
    "classes   = ( 'airplane', 'automobile', 'bird', 'cat', 'deer', 'dog', 'frog', 'horse', 'ship', 'truck' )\n",
    "# Define dataset iterator\n",
    "data_iter = iter( test_loader )\n",
    "# Get the images and labels from dataset.\n",
    "images, labels = data_iter.next()\n",
    "# Output image\n",
    "imshow( torchvision.utils.make_grid( images ) ) \n",
    "# Output corresponding classes\n",
    "print( 'GroundTruth: ', ' '.join( '%s' % classes[labels[j]] for j in range( BATCH_SIZE ) ))"
   ]
  },
  {
   "cell_type": "code",
   "execution_count": 16,
   "metadata": {},
   "outputs": [
    {
     "name": "stdout",
     "output_type": "stream",
     "text": [
      "Predicted:  dog cat deer dog\n"
     ]
    }
   ],
   "source": [
    "# Run our CNN on BATCH_SIZE images from dataset\n",
    "outputs = cnn( images )\n",
    "_, predicted = torch.max( outputs, 1 )\n",
    "print( \"Predicted: \", ' '.join( '%s' % classes[predicted[j]] for j in range ( BATCH_SIZE ) ) )"
   ]
  },
  {
   "cell_type": "code",
   "execution_count": 17,
   "metadata": {},
   "outputs": [],
   "source": [
    "# Write function for error estimation of our classification\n",
    "\n",
    "class_correct = list( 0. for i in range(10) )                     # Define zero vector of size 10 (number of classes)\n",
    "class_total   = list( 0. for i in range(10) )\n",
    "with torch.no_grad():                                             # Do not use gradient\n",
    "    for data in test_loader:                                      # For each data in dataset\n",
    "        images, labels = data                                     # Get image and label\n",
    "        outputs = cnn( images )                                   # Apply CNN to image\n",
    "        _, predicted = torch.max( outputs, 1 )                    \n",
    "        c = ( predicted == labels ).squeeze()\n",
    "        for i in range( BATCH_SIZE ):\n",
    "            label = labels[i]\n",
    "            class_correct[label] += c[i].item()\n",
    "            class_total[label]   += 1"
   ]
  },
  {
   "cell_type": "code",
   "execution_count": 18,
   "metadata": {},
   "outputs": [
    {
     "name": "stdout",
     "output_type": "stream",
     "text": [
      "Accuracy of airplane : 75 %\n",
      "Accuracy of automobile : 72 %\n",
      "Accuracy of bird : 47 %\n",
      "Accuracy of cat : 37 %\n",
      "Accuracy of deer : 43 %\n",
      "Accuracy of dog : 38 %\n",
      "Accuracy of frog : 61 %\n",
      "Accuracy of horse : 72 %\n",
      "Accuracy of ship : 52 %\n",
      "Accuracy of truck : 56 %\n"
     ]
    }
   ],
   "source": [
    "for i in range(10):\n",
    "    print( 'Accuracy of %s : %d %%' % (classes[i], 100 * class_correct[i] / class_total[i] ) )\n"
   ]
  },
  {
   "cell_type": "code",
   "execution_count": null,
   "metadata": {},
   "outputs": [],
   "source": []
  }
 ],
 "metadata": {
  "kernelspec": {
   "display_name": "Python 3",
   "language": "python",
   "name": "python3"
  },
  "language_info": {
   "codemirror_mode": {
    "name": "ipython",
    "version": 3
   },
   "file_extension": ".py",
   "mimetype": "text/x-python",
   "name": "python",
   "nbconvert_exporter": "python",
   "pygments_lexer": "ipython3",
   "version": "3.5.2"
  }
 },
 "nbformat": 4,
 "nbformat_minor": 2
}
