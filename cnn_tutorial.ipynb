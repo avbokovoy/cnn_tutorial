{
 "cells": [
  {
   "cell_type": "code",
   "execution_count": 1,
   "metadata": {},
   "outputs": [],
   "source": [
    "# Importing all the necessary modules\n",
    "import os                                   # OS specific module\n",
    "    \n",
    "import torch                                # PyTorch main module \n",
    "import torch.nn as nn                       # Neural network PyTroch module\n",
    "import torch.utils.data as Data             # Dataset PyTorch module\n",
    "\n",
    "import torchvision                          # Computer vision PyTorch module\n",
    "import torchvision.transforms as transforms # Image transform PyTorch module"
   ]
  },
  {
   "cell_type": "code",
   "execution_count": 2,
   "metadata": {},
   "outputs": [
    {
     "data": {
      "text/plain": [
       "<torch._C.Generator at 0x5adc930>"
      ]
     },
     "execution_count": 2,
     "metadata": {},
     "output_type": "execute_result"
    }
   ],
   "source": [
    "torch.manual_seed(1)                        # Adjusting random generator"
   ]
  },
  {
   "cell_type": "code",
   "execution_count": 3,
   "metadata": {},
   "outputs": [],
   "source": [
    "# Creating the model of our CNN:\n",
    "class CNN( nn.Module ):\n",
    "    def __init__( self ):\n",
    "        super( CNN, self ).__init__()\n",
    "        self.conv1 = nn.Sequential(                   # First layer. Input: 3 channel image (RGB)\n",
    "                                                      # with size 32х32 or (3, 32, 32) \n",
    "            nn.Conv2d(                                # Convolution function.  \n",
    "                in_channels  = 3                      # Input channels: 3, equals the input image channels\n",
    "              , out_channels = 16                     # Output channels: 16\n",
    "              , kernel_size  = 5                      # Kernel size: 5\n",
    "              , stride       = 1                      # Vertical and Horizontal stride: 1\n",
    "              , padding      = 2                      # Padding: 2\n",
    "            )\n",
    "            , nn.ReLU()                               # Activation function: ReLU\n",
    "            , nn.MaxPool2d( kernel_size = 2\n",
    "                          , dilation    = 1)          # Pooling function with kernel size: 2\n",
    "        )                                             # Output image: ( 16, 16, 16 )  \n",
    "        \n",
    "        self.conv2 = nn.Sequential(                   # Second layer. Imput image: ( 16, 16, 16 )\n",
    "              nn.Conv2d( 16, 32, 5, 1, 2 )            # Convolution function.\n",
    "            , nn.ReLU()                               # Activation function.\n",
    "            , nn.MaxPool2d( kernel_size = 2, dilation    = 1 )         # Pooling function. \n",
    "            , nn.Dropout2d( p = 0.2 )               \n",
    "         \n",
    "        )                                             # Output image: ( 32, 8, 8 )\n",
    "        \n",
    "        self.out = nn.Linear( 32 * 8 * 8, 10 )        # Fully connected layer. First argument: Input\n",
    "                                                      # array size. Second: amount of outputs (equals\n",
    "                                                      # amount of classes)\n",
    "    def forward( self, x ):                           # Reimplementing method forward of superclass\n",
    "                                                      # nn.Module\n",
    "        x = self.conv1(x)                             # Calling first layer.\n",
    "        x = self.conv2(x)                             # Calling second layer.\n",
    "        x = x.view( x.size(0), -1 )                   # Squeezing into 1-d array\n",
    "        x = self.out(x)                               # Form perceptron\n",
    "        return x                                      # Return the result"
   ]
  },
  {
   "cell_type": "code",
   "execution_count": 4,
   "metadata": {},
   "outputs": [
    {
     "name": "stdout",
     "output_type": "stream",
     "text": [
      "CNN(\n",
      "  (conv1): Sequential(\n",
      "    (0): Conv2d(3, 16, kernel_size=(5, 5), stride=(1, 1), padding=(2, 2))\n",
      "    (1): ReLU()\n",
      "    (2): MaxPool2d(kernel_size=2, stride=2, padding=0, dilation=1, ceil_mode=False)\n",
      "  )\n",
      "  (conv2): Sequential(\n",
      "    (0): Conv2d(16, 32, kernel_size=(5, 5), stride=(1, 1), padding=(2, 2))\n",
      "    (1): ReLU()\n",
      "    (2): MaxPool2d(kernel_size=2, stride=2, padding=0, dilation=1, ceil_mode=False)\n",
      "    (3): Dropout2d(p=0.2)\n",
      "  )\n",
      "  (out): Linear(in_features=2048, out_features=10, bias=True)\n",
      ")\n"
     ]
    }
   ],
   "source": [
    "cnn = CNN()                                           # Create CNN-type object\n",
    "print(cnn)                                            # Output CNN architecture as text"
   ]
  },
  {
   "cell_type": "code",
   "execution_count": 5,
   "metadata": {},
   "outputs": [
    {
     "name": "stdout",
     "output_type": "stream",
     "text": [
      "Files already downloaded and verified\n"
     ]
    }
   ],
   "source": [
    "# Create IPL to Tensor transform function\n",
    "transform = transforms.Compose( [ \n",
    "        transforms.ToTensor()\n",
    "      , transforms.Normalize( ( 0.5,0.5, 0.5 ), ( 0.5, 0.5, 0.5 ) ) \n",
    "    ]\n",
    ")\n",
    "\n",
    "train_data = torchvision.datasets.CIFAR10(            # Download dataset Cifar10 from\n",
    "                                                      # https://www.cs.toronto.edu/~kriz/cifar.html\n",
    "      root      = './cifar10/'                        # Dataset path\n",
    "    , train     = True                                # If True, data will be used to train\n",
    "                                                      # False - to test\n",
    "    , transform = transform                           # IPL to Tensor transform function.\n",
    "    , download  = True                                # If True, data will be downloaded from repository, \n",
    "                                                      # False - use local data\n",
    ")"
   ]
  },
  {
   "cell_type": "code",
   "execution_count": 6,
   "metadata": {},
   "outputs": [],
   "source": [
    "train_loader = Data.DataLoader(                       # Create Data.DataLoader type object\n",
    "      dataset    = train_data                         # Input dataset'a - train_data\n",
    "    , batch_size = 50                                 # How many image will be used to train at one go\n",
    "    , shuffle    = True                               # Do we need to shuffle dataset?\n",
    ")"
   ]
  },
  {
   "cell_type": "code",
   "execution_count": 7,
   "metadata": {},
   "outputs": [],
   "source": [
    "# Create optimizer object (in our particular case, Adam optimizer).\n",
    "# Input CNN parameters and learning rate\n",
    "optimizer = torch.optim.Adam( cnn.parameters(), lr = 0.001 )  \n",
    "\n",
    "# Define loss function (Cross Entropy)\n",
    "loss_func = nn.CrossEntropyLoss()"
   ]
  },
  {
   "cell_type": "code",
   "execution_count": 8,
   "metadata": {},
   "outputs": [
    {
     "name": "stdout",
     "output_type": "stream",
     "text": [
      "[0,    99] loss: 1.981902\n",
      "[0,   199] loss: 1.661853\n",
      "[0,   299] loss: 1.556734\n",
      "[0,   399] loss: 1.482239\n",
      "[0,   499] loss: 1.433049\n",
      "[0,   599] loss: 1.423994\n",
      "[0,   699] loss: 1.378161\n",
      "[0,   799] loss: 1.290709\n",
      "[0,   899] loss: 1.302554\n",
      "[0,   999] loss: 1.261217\n"
     ]
    }
   ],
   "source": [
    "# Train the CNN\n",
    "\n",
    "MAX_EPOCH = 1                                                          # Number of iterations for training.\n",
    "                                                                       # Insert your number here\n",
    "running_loss = 0.0\n",
    "for epoch in range( MAX_EPOCH ):\n",
    "    for step, ( b_images, b_labels ) in enumerate( train_loader ):    # For all images b_images and labels b_labels \n",
    "        output = cnn( b_images )                                      # get the results of CNN to output\n",
    "        loss   = loss_func( output, b_labels )                        # Calculate the loss between output\n",
    "                                                                      # and known labels b_labels\n",
    "        optimizer.zero_grad()                                         # Zero gradient\n",
    "        loss.backward()                                               # Using backpropagation\n",
    "        optimizer.step()                                              # Applying gradient\n",
    "        \n",
    "        running_loss += loss.item()                                   # Get the loss on current step\n",
    "        if step % 100 == 99:\n",
    "            print( '[%d, %5d] loss: %f' % ( epoch, step, running_loss / 100) )  # Output the loss\n",
    "            running_loss = 0.0                                                  # Zero the loss"
   ]
  },
  {
   "cell_type": "code",
   "execution_count": 9,
   "metadata": {},
   "outputs": [
    {
     "name": "stdout",
     "output_type": "stream",
     "text": [
      "Files already downloaded and verified\n"
     ]
    }
   ],
   "source": [
    "# Download testing dataset\n",
    "test_data = torchvision.datasets.CIFAR10(\n",
    "      root = './cifar10/'\n",
    "    , train     = False\n",
    "    , download  = True\n",
    "    , transform = transform\n",
    ")\n",
    "\n",
    "BATCH_SIZE = 4\n",
    "\n",
    "test_loader = torch.utils.data.DataLoader(\n",
    "      test_data\n",
    "    , batch_size = BATCH_SIZE\n",
    "    , shuffle    = True\n",
    "    , num_workers = 2                      # How many processes will be used for testing\n",
    ")"
   ]
  },
  {
   "cell_type": "code",
   "execution_count": 10,
   "metadata": {},
   "outputs": [],
   "source": [
    "# Write the util for image output.\n",
    "\n",
    "import numpy as np\n",
    "import matplotlib.pyplot as plt\n",
    "\n",
    "def imshow( img ):\n",
    "    img   = img / 2 + 0.5\n",
    "    npimg = img.numpy()\n",
    "    plt.imshow( np.transpose( npimg, (1, 2, 0) ) )"
   ]
  },
  {
   "cell_type": "code",
   "execution_count": 11,
   "metadata": {},
   "outputs": [
    {
     "name": "stdout",
     "output_type": "stream",
     "text": [
      "GroundTruth:  truck airplane frog ship\n"
     ]
    },
    {
     "data": {
      "image/png": "[encoded data removed]",
      "text/plain": [
       "<Figure size 432x288 with 1 Axes>"
      ]
     },
     "metadata": {},
     "output_type": "display_data"
    }
   ],
   "source": [
    "# Define class name vector\n",
    "classes   = ( 'airplane', 'automobile', 'bird', 'cat', 'deer', 'dog', 'frog', 'horse', 'ship', 'truck' )\n",
    "# Define dataset iterator\n",
    "data_iter = iter( test_loader )\n",
    "# Get the images and labels from dataset.\n",
    "images, labels = data_iter.next()\n",
    "# Output image\n",
    "imshow( torchvision.utils.make_grid( images ) ) \n",
    "# Output corresponding classes\n",
    "print( 'GroundTruth: ', ' '.join( '%s' % classes[labels[j]] for j in range( BATCH_SIZE ) ))"
   ]
  },
  {
   "cell_type": "code",
   "execution_count": 12,
   "metadata": {},
   "outputs": [
    {
     "name": "stdout",
     "output_type": "stream",
     "text": [
      "Predicted:  truck truck frog ship\n"
     ]
    }
   ],
   "source": [
    "# Run our CNN on BATCH_SIZE images from dataset\n",
    "outputs = cnn( images )\n",
    "_, predicted = torch.max( outputs, 1 )\n",
    "print( \"Predicted: \", ' '.join( '%s' % classes[predicted[j]] for j in range ( BATCH_SIZE ) ) )"
   ]
  },
  {
   "cell_type": "code",
   "execution_count": null,
   "metadata": {},
   "outputs": [],
   "source": [
    "# Write function for error estimation of our classification\n",
    "\n",
    "class_correct = list( 0. for i in range(10) )                     # Define zero vector of size 10\n",
    "                                                                  # (number of classes)\n",
    "class_total   = list( 0. for i in range(10) )\n",
    "with torch.no_grad():                                             # Do not use gradient\n",
    "    for data in test_loader:                                      # For each data in dataset\n",
    "        images, labels = data                                     # Get image and label\n",
    "        outputs = cnn( images )                                   # Apply CNN to image\n",
    "        _, predicted = torch.max( outputs, 1 )                    \n",
    "        c = ( predicted == labels ).squeeze()\n",
    "        for i in range( BATCH_SIZE ):\n",
    "            label = labels[i]\n",
    "            class_correct[label] += c[i].item()\n",
    "            class_total[label]   += 1"
   ]
  },
  {
   "cell_type": "code",
   "execution_count": null,
   "metadata": {},
   "outputs": [],
   "source": [
    "for i in range(10):\n",
    "    print( 'Accuracy of %s : %d %%' % (classes[i], 100 * class_correct[i] / class_total[i] ) )\n"
   ]
  },
  {
   "cell_type": "code",
   "execution_count": null,
   "metadata": {},
   "outputs": [],
   "source": []
  }
 ],
 "metadata": {
  "kernelspec": {
   "display_name": "Python 3",
   "language": "python",
   "name": "python3"
  },
  "language_info": {
   "codemirror_mode": {
    "name": "ipython",
    "version": 3
   },
   "file_extension": ".py",
   "mimetype": "text/x-python",
   "name": "python",
   "nbconvert_exporter": "python",
   "pygments_lexer": "ipython3",
   "version": "3.6.4"
  }
 },
 "nbformat": 4,
 "nbformat_minor": 2
}
